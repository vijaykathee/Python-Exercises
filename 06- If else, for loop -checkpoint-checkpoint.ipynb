{
 "cells": [
  {
   "cell_type": "markdown",
   "metadata": {},
   "source": [
    "# IF , ELSE.... FOR LOOP"
   ]
  },
  {
   "cell_type": "markdown",
   "metadata": {},
   "source": [
    "> print this is hour in current minute is odd"
   ]
  },
  {
   "cell_type": "code",
   "execution_count": 3,
   "metadata": {},
   "outputs": [
    {
     "name": "stdout",
     "output_type": "stream",
     "text": [
      "Enter the current minute : 51\n",
      "current minutes  51\n",
      "This is Odd minute\n"
     ]
    }
   ],
   "source": [
    "t=int(input(\"Enter the current minute : \"))\n",
    "print(\"current minutes \",t)\n",
    "if t%2==1:\n",
    "    print(\"This is Odd minute\")\n",
    "else:\n",
    "    print(\"This is even minute\")\n",
    "\n",
    "    "
   ]
  },
  {
   "cell_type": "markdown",
   "metadata": {},
   "source": [
    "> if today is satarday then print 'Party !!!' or if sunday print take rest other wise print work , work, work"
   ]
  },
  {
   "cell_type": "code",
   "execution_count": 6,
   "metadata": {},
   "outputs": [
    {
     "name": "stdout",
     "output_type": "stream",
     "text": [
      "Enter a day : saturday\n",
      "Today is :  saturday\n",
      "Party !!!\n"
     ]
    }
   ],
   "source": [
    "s=str(input(\"Enter a day : \"))\n",
    "if s=='sunday':\n",
    "    print(\"Today is : \",s)\n",
    "    print(\"Take Rest\")\n",
    "elif s=='saturday':\n",
    "    print(\"Today is : \",s)\n",
    "    print(\"Party !!!\")\n",
    "else:\n",
    "    print(\"Today is : \",s)\n",
    "    print(\" work , work, work\") \n",
    "    "
   ]
  },
  {
   "cell_type": "markdown",
   "metadata": {},
   "source": [
    "> Write a program which will find all such numbers which are divisible by 7 but are not a multiple of 5, between 2000 and 3200 (both included). The numbers obtained should be printed in a comma-separated sequence on a single line."
   ]
  },
  {
   "cell_type": "code",
   "execution_count": 7,
   "metadata": {},
   "outputs": [
    {
     "name": "stdout",
     "output_type": "stream",
     "text": [
      "2002,2009,2016,2023,2037,2044,2051,2058,2072,2079,2086,2093,2107,2114,2121,2128,2142,2149,2156,2163,2177,2184,2191,2198,2212,2219,2226,2233,2247,2254,2261,2268,2282,2289,2296,2303,2317,2324,2331,2338,2352,2359,2366,2373,2387,2394,2401,2408,2422,2429,2436,2443,2457,2464,2471,2478,2492,2499,2506,2513,2527,2534,2541,2548,2562,2569,2576,2583,2597,2604,2611,2618,2632,2639,2646,2653,2667,2674,2681,2688,2702,2709,2716,2723,2737,2744,2751,2758,2772,2779,2786,2793,2807,2814,2821,2828,2842,2849,2856,2863,2877,2884,2891,2898,2912,2919,2926,2933,2947,2954,2961,2968,2982,2989,2996,3003,3017,3024,3031,3038,3052,3059,3066,3073,3087,3094,3101,3108,3122,3129,3136,3143,3157,3164,3171,3178,3192,3199,"
     ]
    }
   ],
   "source": [
    "#CODE HERE\n",
    "for i in range(2000,3201):\n",
    "    if (i%7==0) & (i%5!=0):\n",
    "        print(i ,end=\",\")"
   ]
  },
  {
   "cell_type": "markdown",
   "metadata": {},
   "source": [
    "> Write a program which can compute the factorial of a given numbers.\n",
    "The results should be printed in a comma-separated sequence on a single line.\n",
    "Suppose the following input is supplied to the program:\n",
    "8\n",
    "Then, the output should be:\n",
    "40320"
   ]
  },
  {
   "cell_type": "code",
   "execution_count": 18,
   "metadata": {},
   "outputs": [
    {
     "name": "stdout",
     "output_type": "stream",
     "text": [
      "Enter the value to compute the factorial : 8\n",
      "8! =  40320\n"
     ]
    }
   ],
   "source": [
    "p=int(input(\"Enter the value to compute the factorial : \"))\n",
    "s=1\n",
    "for i in range(1,p+1):\n",
    "    s*=1*i\n",
    "print('8! = ',s)\n",
    "    \n"
   ]
  },
  {
   "cell_type": "markdown",
   "metadata": {},
   "source": [
    "> With a given integral number n, write a program to generate a dictionary that contains (i, i*i) such that is an integral number between 1 and n (both included). and then the program should print the dictionary.\n",
    "Suppose the following input is supplied to the program:\n",
    "8\n",
    "Then, the output should be:\n",
    "{1: 1, 2: 4, 3: 9, 4: 16, 5: 25, 6: 36, 7: 49, 8: 64}\n",
    "\n",
    "*Hint* : use dict()"
   ]
  },
  {
   "cell_type": "code",
   "execution_count": 15,
   "metadata": {},
   "outputs": [
    {
     "name": "stdout",
     "output_type": "stream",
     "text": [
      "Enter the value  : 8\n",
      "{1: 1},{2: 4},{3: 9},{4: 16},{5: 25},{6: 36},{7: 49},{8: 64},"
     ]
    }
   ],
   "source": [
    "p=int(input(\"Enter the value  : \"))\n",
    "for i in range(1,p+1):\n",
    "    print({i:i*i},end=\",\")\n"
   ]
  },
  {
   "cell_type": "markdown",
   "metadata": {},
   "source": [
    "> create user defined fuction for \n",
    "- addition \"add\"\n",
    "- subtraction \"sub\"\n",
    "- multiplication \"mul\"\n",
    "- division \"div\"\n",
    "- power \"pow\""
   ]
  },
  {
   "cell_type": "code",
   "execution_count": 9,
   "metadata": {},
   "outputs": [
    {
     "name": "stdout",
     "output_type": "stream",
     "text": [
      "Please enter the value : 4\n",
      "Please enter the value : 2\n",
      "Enter the keyword {add, sub, mul, div, pow}: pow\n",
      "power of two numbers 4 and 2 is 16\n"
     ]
    }
   ],
   "source": [
    "x=int(input(\"Please enter the value : \"))\n",
    "y=int(input(\"Please enter the value : \"))\n",
    "s=str(input(\"Enter the keyword {add, sub, mul, div, pow}: \"))\n",
    "if s=='add':\n",
    "    print(f'addition of two numbers {x} and {y} is {x+y}')\n",
    "elif s=='sub':\n",
    "    print(f'substraction of two numbers {x} and {y} is {x-y}')\n",
    "elif s=='mul':\n",
    "    print(f'multiplication of two numbers {x} and {y} is {x*y}')\n",
    "elif s=='div':\n",
    "    print(f'division of two numbers {x} and {y} is {x/y}')\n",
    "elif s=='pow':\n",
    "    print(f'power of two numbers {x} and {y} is {x**y}')\n",
    "else:\n",
    "    print(\"Enter an appropriate value \")\n",
    "          "
   ]
  },
  {
   "cell_type": "markdown",
   "metadata": {},
   "source": [
    "### Write a Python program that accepts a string and calculate the number of digits and letters.\n",
    "- Input\n",
    "\n",
    "    - Hello321Bye360\n",
    "- Output\n",
    "\n",
    "    - Digit - 6\n",
    "\n",
    "    - Letter - 8"
   ]
  },
  {
   "cell_type": "code",
   "execution_count": 1,
   "metadata": {},
   "outputs": [
    {
     "name": "stdout",
     "output_type": "stream",
     "text": [
      "enter the text: 12365asdf12a3\n",
      "Digit -  8\n",
      "letter -  5\n"
     ]
    }
   ],
   "source": [
    "i=input(\"enter the text: \")\n",
    "n=0\n",
    "a=0\n",
    "for j in i:\n",
    "    if j.isdigit():\n",
    "        n=n+1\n",
    "    elif j.isalpha():\n",
    "        a+=1\n",
    "print('Digit - ',n)\n",
    "print('letter - ',a)    "
   ]
  },
  {
   "cell_type": "markdown",
   "metadata": {},
   "source": [
    "### With a given tuple (1,2,3,4,5,6,7,8,9,10), write a program to print the first half values in one line and the last half values in one line."
   ]
  },
  {
   "cell_type": "code",
   "execution_count": 6,
   "metadata": {},
   "outputs": [
    {
     "name": "stdout",
     "output_type": "stream",
     "text": [
      "(1, 2, 3, 4, 5)\n"
     ]
    },
    {
     "data": {
      "text/plain": [
       "(6, 7, 8, 9, 10)"
      ]
     },
     "execution_count": 6,
     "metadata": {},
     "output_type": "execute_result"
    }
   ],
   "source": [
    "# METHOD - 1\n",
    "\n",
    "p=(1,2,3,4,5,6,7,8,9,10)\n",
    "l=p[:5]\n",
    "k=p[5:]\n",
    "print(str(l))\n",
    "k"
   ]
  },
  {
   "cell_type": "code",
   "execution_count": 5,
   "metadata": {},
   "outputs": [
    {
     "name": "stdout",
     "output_type": "stream",
     "text": [
      "(1, 2, 3, 4, 5) (6, 7, 8, 9, 10)\n"
     ]
    }
   ],
   "source": [
    "p=(1,2,3,4,5,6,7,8,9,10)\n",
    "l=p[:5]\n",
    "k=p[5:]\n",
    "print(l,k\n",
    "     )\n"
   ]
  },
  {
   "cell_type": "code",
   "execution_count": 2,
   "metadata": {},
   "outputs": [
    {
     "name": "stdout",
     "output_type": "stream",
     "text": [
      "(1, 2, 3, 4, 5) (6, 7, 8, 9, 10)\n"
     ]
    }
   ],
   "source": [
    "# METHOD - 2\n",
    "\n"
   ]
  },
  {
   "cell_type": "code",
   "execution_count": 7,
   "metadata": {},
   "outputs": [
    {
     "name": "stdout",
     "output_type": "stream",
     "text": [
      "[1, 2, 3, 4, 5]\n",
      "[6, 7, 8, 9, 10]\n"
     ]
    }
   ],
   "source": [
    "p=(1,2,3,4,5,6,7,8,9,10)\n",
    "l=list(p)\n",
    "print(l[:5])\n",
    "print(l[5:])"
   ]
  },
  {
   "cell_type": "markdown",
   "metadata": {},
   "source": [
    "### Write a program to generate and print another tuple whose values are even numbers in the given tuple (1,2,3,4,5,6,7,8,9,10)"
   ]
  },
  {
   "cell_type": "code",
   "execution_count": 1,
   "metadata": {},
   "outputs": [
    {
     "name": "stdout",
     "output_type": "stream",
     "text": [
      "(2, 4, 6, 8, 10)\n"
     ]
    }
   ],
   "source": [
    "p=(1,2,3,4,5,6,7,8,9,10)\n",
    "print(p[1::2])\n"
   ]
  },
  {
   "cell_type": "markdown",
   "metadata": {},
   "source": [
    "### Write a program which accepts a string as input to print \"Yes\" if the string is \"yes\" or \"YES\" or \"Yes\", otherwise print \"No\""
   ]
  },
  {
   "cell_type": "code",
   "execution_count": 3,
   "metadata": {},
   "outputs": [
    {
     "name": "stdout",
     "output_type": "stream",
     "text": [
      "Please type something. --> YES\n",
      "Yes\n"
     ]
    }
   ],
   "source": [
    "m= input(\"Please type something. --> \")\n",
    "if m=='Yes' or m=='yes' or m=='YES' :\n",
    "    print('Yes')"
   ]
  },
  {
   "cell_type": "code",
   "execution_count": 6,
   "metadata": {},
   "outputs": [
    {
     "name": "stdout",
     "output_type": "stream",
     "text": [
      "Please type something. --> yes\n",
      "Yes\n"
     ]
    }
   ],
   "source": [
    "text = input(\"Please type something. --> \")\n"
   ]
  },
  {
   "cell_type": "markdown",
   "metadata": {},
   "source": [
    "### Please write a program to generate a list with 5 random numbers between 100 and 200 inclusive."
   ]
  },
  {
   "cell_type": "code",
   "execution_count": 6,
   "metadata": {},
   "outputs": [
    {
     "name": "stdout",
     "output_type": "stream",
     "text": [
      "[174, 166, 101, 197, 118]\n"
     ]
    }
   ],
   "source": [
    "import random\n",
    "m=[]\n",
    "for i in range(100,200):\n",
    "    m.append(i)\n",
    "p=random.sample(m,5)\n",
    "print(p)"
   ]
  },
  {
   "cell_type": "code",
   "execution_count": 7,
   "metadata": {},
   "outputs": [
    {
     "name": "stdout",
     "output_type": "stream",
     "text": [
      "[139, 188, 145, 194, 143]\n"
     ]
    }
   ],
   "source": [
    "import random\n",
    "\n"
   ]
  },
  {
   "cell_type": "markdown",
   "metadata": {},
   "source": [
    "### Please generate a random float where the value is between 5 and 95 using Python module."
   ]
  },
  {
   "cell_type": "code",
   "execution_count": 7,
   "metadata": {},
   "outputs": [
    {
     "name": "stdout",
     "output_type": "stream",
     "text": [
      "31.474445529452375\n"
     ]
    }
   ],
   "source": [
    "p=random.uniform(5,95)\n",
    "print(p)"
   ]
  },
  {
   "cell_type": "code",
   "execution_count": 2,
   "metadata": {},
   "outputs": [
    {
     "name": "stdout",
     "output_type": "stream",
     "text": [
      "50.407397170147895\n"
     ]
    }
   ],
   "source": [
    "import random\n"
   ]
  },
  {
   "cell_type": "markdown",
   "metadata": {},
   "source": [
    "### [1,1,1,1,3,3,4,4,4,5,6,7,8,8,8]\n",
    "#### 1. from the above list print the uniques values\n",
    "#### 2. count how many times each number exist\n",
    "#### 3. Print the number which is occured more number of times"
   ]
  },
  {
   "cell_type": "code",
   "execution_count": 8,
   "metadata": {},
   "outputs": [
    {
     "name": "stdout",
     "output_type": "stream",
     "text": [
      "{1, 3, 4, 5, 6, 7, 8}\n"
     ]
    }
   ],
   "source": [
    "\n",
    "l=[1,1,1,1,3,3,4,4,4,5,6,7,8,8,8]\n",
    "print(set(l))"
   ]
  },
  {
   "cell_type": "code",
   "execution_count": 13,
   "metadata": {},
   "outputs": [
    {
     "name": "stdout",
     "output_type": "stream",
     "text": [
      "the number of times 1 exist : 4\n",
      "the number of times 3 exist : 2\n",
      "the number of times 4 exist : 3\n",
      "the number of times 5 exist : 1\n",
      "the number of times 6 exist : 1\n",
      "the number of times 7 exist : 1\n",
      "the number of times 8 exist : 3\n"
     ]
    }
   ],
   "source": [
    "l=[1,1,1,1,3,3,4,4,4,5,6,7,8,8,8]\n",
    "for i in range(1,9):\n",
    "    if i==2:\n",
    "        continue\n",
    "    print(f'the number of times {i} exist : {l.count(i)}')\n"
   ]
  },
  {
   "cell_type": "code",
   "execution_count": 18,
   "metadata": {},
   "outputs": [
    {
     "name": "stdout",
     "output_type": "stream",
     "text": [
      "1 repeated  4 times\n"
     ]
    }
   ],
   "source": [
    "l=[1,1,1,1,3,3,4,4,4,5,6,7,8,8,8]\n",
    "d=[]\n",
    "for i in range(1,9):\n",
    "    if i==2:\n",
    "        continue\n",
    "    k=l.count(i)\n",
    "    d.append(k)\n",
    "k1=sorted(d)\n",
    "k2=k1[-1]\n",
    "print(\"1 repeated \",k2,\"times\")"
   ]
  }
 ],
 "metadata": {
  "kernelspec": {
   "display_name": "Python 3 (ipykernel)",
   "language": "python",
   "name": "python3"
  },
  "language_info": {
   "codemirror_mode": {
    "name": "ipython",
    "version": 3
   },
   "file_extension": ".py",
   "mimetype": "text/x-python",
   "name": "python",
   "nbconvert_exporter": "python",
   "pygments_lexer": "ipython3",
   "version": "3.9.12"
  }
 },
 "nbformat": 4,
 "nbformat_minor": 2
}
