{
 "cells": [
  {
   "cell_type": "markdown",
   "metadata": {
    "id": "UlTyvTnVDRXI"
   },
   "source": [
    "## 1. Create Python class named `Student` and display its type"
   ]
  },
  {
   "cell_type": "code",
   "execution_count": 1,
   "metadata": {},
   "outputs": [],
   "source": [
    "# CODE HERE\n",
    "class student:\n",
    "    def name(self):\n",
    "        return"
   ]
  },
  {
   "cell_type": "code",
   "execution_count": 2,
   "metadata": {},
   "outputs": [
    {
     "name": "stdout",
     "output_type": "stream",
     "text": [
      "<class 'type'>\n"
     ]
    }
   ],
   "source": [
    "print(type(student))"
   ]
  },
  {
   "cell_type": "markdown",
   "metadata": {
    "id": "nYjL6Efcx6ad"
   },
   "source": [
    "## 2. How to call a variable and function by creating a simple class\n"
   ]
  },
  {
   "cell_type": "code",
   "execution_count": 9,
   "metadata": {},
   "outputs": [],
   "source": [
    "class dog:\n",
    "    def __init__(self,name):\n",
    "        self.name=name\n",
    "        return\n",
    "    def show(self):\n",
    "        print(f'This is {self.name}')\n",
    "        print(f\"I'm from function This is {self.name}\")"
   ]
  },
  {
   "cell_type": "code",
   "execution_count": 10,
   "metadata": {},
   "outputs": [
    {
     "name": "stdout",
     "output_type": "stream",
     "text": [
      "This is jack\n",
      "I'm from function This is jack\n"
     ]
    }
   ],
   "source": [
    "p=dog('jack')\n",
    "p.show()"
   ]
  },
  {
   "cell_type": "markdown",
   "metadata": {
    "id": "Qrn6EsJ7putu"
   },
   "source": [
    "## 3. Create a class with one `static variable` and two `instace variables`"
   ]
  },
  {
   "cell_type": "code",
   "execution_count": 7,
   "metadata": {},
   "outputs": [],
   "source": [
    "class demo:\n",
    "    country=\"India\"\n",
    "    def __init__(self,name,name_id):\n",
    "        self.name=name\n",
    "        self.id=name_id\n",
    "    def show(self):\n",
    "        print('name is',self.name)\n",
    "        print('id is ',self.id)\n",
    "        return\n",
    "    @classmethod\n",
    "    def static(cls):\n",
    "        print('static variable is ',cls.country)\n",
    "    \n",
    "    @staticmethod\n",
    "    def place(place):\n",
    "        print(place)\n",
    "        return\n",
    "        \n",
    "    "
   ]
  },
  {
   "cell_type": "code",
   "execution_count": 8,
   "metadata": {},
   "outputs": [
    {
     "name": "stdout",
     "output_type": "stream",
     "text": [
      "name is name\n",
      "id is  52\n"
     ]
    }
   ],
   "source": [
    "d=demo('name',52)\n",
    "d.show()"
   ]
  },
  {
   "cell_type": "code",
   "execution_count": 9,
   "metadata": {},
   "outputs": [
    {
     "name": "stdout",
     "output_type": "stream",
     "text": [
      "mmkk\n",
      "static variable is  India\n"
     ]
    }
   ],
   "source": [
    "d.place('mmkk')\n",
    "d.static()"
   ]
  },
  {
   "cell_type": "markdown",
   "metadata": {
    "id": "m2__2x3B_gub"
   },
   "source": [
    "## 4. Create a `Vehicle` class with max_speed and mileage instance attributes"
   ]
  },
  {
   "cell_type": "code",
   "execution_count": 19,
   "metadata": {
    "id": "4M2ggFoC_hqV"
   },
   "outputs": [],
   "source": [
    "# CODE HERE\n",
    "class vechile:\n",
    "    def __init__(self,max_speed,mileage):\n",
    "        self.s=max_speed\n",
    "        self.m=mileage\n",
    "        return\n",
    "    def speed(self):\n",
    "        print('vechile max speed is ',self.s)\n",
    "        return\n",
    "    def mile(self):\n",
    "        print('vechile mileage is ',self.m)"
   ]
  },
  {
   "cell_type": "code",
   "execution_count": 20,
   "metadata": {},
   "outputs": [],
   "source": [
    "v=vechile(240,18)"
   ]
  },
  {
   "cell_type": "code",
   "execution_count": 21,
   "metadata": {},
   "outputs": [
    {
     "name": "stdout",
     "output_type": "stream",
     "text": [
      "vechile max speed is  240\n",
      "vechile mileage is  18\n"
     ]
    }
   ],
   "source": [
    "v.speed()\n",
    "v.mile()"
   ]
  },
  {
   "cell_type": "markdown",
   "metadata": {
    "id": "dGGYG_Sm1N4y"
   },
   "source": [
    "## 5. Create a simple class `Person` with constructer and one argument `name`"
   ]
  },
  {
   "cell_type": "code",
   "execution_count": 22,
   "metadata": {
    "id": "zkAdBgQP1bNW"
   },
   "outputs": [],
   "source": [
    "# CODE HERE\n",
    "class person:\n",
    "    def __init__(self,name):\n",
    "        self.n=name\n",
    "        return\n",
    "    def say_hi(self):\n",
    "        print('Hello , my name is ',self.n)"
   ]
  },
  {
   "cell_type": "code",
   "execution_count": 23,
   "metadata": {},
   "outputs": [
    {
     "name": "stdout",
     "output_type": "stream",
     "text": [
      "Hello , my name is  vijay\n"
     ]
    }
   ],
   "source": [
    "p=person('vijay')\n",
    "p.say_hi()"
   ]
  },
  {
   "cell_type": "markdown",
   "metadata": {
    "id": "T9AQ6X3i2k6l"
   },
   "source": [
    "## 6. Create a class for `Students` information like `name, rollno, marks` and `school name` with static variable.\n",
    "- create a function for displaying student information\n",
    "- create one more function for getting students marks and percentage "
   ]
  },
  {
   "cell_type": "code",
   "execution_count": 19,
   "metadata": {},
   "outputs": [],
   "source": [
    "class student:\n",
    "    def __init__(self,name, rollno, marks,school_name):\n",
    "        self.n=name\n",
    "        self.r=rollno\n",
    "        self.m=marks\n",
    "        self.p=school_name\n",
    "        return\n",
    "    def display(self):\n",
    "        print(f'Name: {self.n} , RollNo: {self.r} , Marks: {self.m} , College: {self.p}')\n",
    "        return\n",
    "    def dic(self):\n",
    "        p={\n",
    "            'name':self.n,\n",
    "            'rollno':self.r,\n",
    "            'marks':self.m,\n",
    "            'collage':self.p\n",
    "        }\n",
    "        print('dictionary',p)\n",
    "        return\n",
    "    def percent(self):\n",
    "        l=(self.m/500)*100\n",
    "        print(f\"percentahe of {self.m} out of 500 is :\",l)\n",
    "        \n",
    "        "
   ]
  },
  {
   "cell_type": "code",
   "execution_count": 20,
   "metadata": {},
   "outputs": [],
   "source": [
    "d=student('vijay',1,399,'OU')"
   ]
  },
  {
   "cell_type": "code",
   "execution_count": 21,
   "metadata": {},
   "outputs": [
    {
     "name": "stdout",
     "output_type": "stream",
     "text": [
      "Name: vijay , RollNo: 1 , Marks: 399 , College: OU\n"
     ]
    }
   ],
   "source": [
    "d.display()"
   ]
  },
  {
   "cell_type": "code",
   "execution_count": 22,
   "metadata": {},
   "outputs": [
    {
     "name": "stdout",
     "output_type": "stream",
     "text": [
      "dictionary {'name': 'vijay', 'rollno': 1, 'marks': 399, 'collage': 'OU'}\n"
     ]
    }
   ],
   "source": [
    "d.dic()"
   ]
  },
  {
   "cell_type": "code",
   "execution_count": 23,
   "metadata": {},
   "outputs": [
    {
     "name": "stdout",
     "output_type": "stream",
     "text": [
      "percentahe of 399 out of 500 is : 79.80000000000001\n"
     ]
    }
   ],
   "source": [
    "d.percent()"
   ]
  },
  {
   "cell_type": "markdown",
   "metadata": {
    "id": "x-zGvkOi_9PD"
   },
   "source": [
    "## 7. Create a child class `Bus` that will inherit all of the variables and methods of the `Vehicle` class"
   ]
  },
  {
   "cell_type": "code",
   "execution_count": 10,
   "metadata": {
    "id": "5IppTc73__tp"
   },
   "outputs": [],
   "source": [
    "# CODE HERE\n",
    "class vechile:\n",
    "    def __init__(self,speed,mileage):\n",
    "        self.s=speed\n",
    "        self.m=mileage\n",
    "        return\n",
    "class bus(vechile):\n",
    "    def show(self):\n",
    "        print(f\"Vehicle Name: School Bus Speed: {self.s} Mileage: {self.m}\")"
   ]
  },
  {
   "cell_type": "code",
   "execution_count": 11,
   "metadata": {},
   "outputs": [],
   "source": [
    "b=bus(180,12)"
   ]
  },
  {
   "cell_type": "code",
   "execution_count": 12,
   "metadata": {},
   "outputs": [
    {
     "name": "stdout",
     "output_type": "stream",
     "text": [
      "Vehicle Name: School Bus Speed: 180 Mileage: 12\n"
     ]
    }
   ],
   "source": [
    "b.show()"
   ]
  },
  {
   "cell_type": "markdown",
   "metadata": {
    "id": "Cex1VHlicvR0"
   },
   "source": [
    "## 8. Create a class `Employee` with two arguments `name and salary`\n",
    "- create a function which displays the employee information\n",
    "- Print total number of employees "
   ]
  },
  {
   "cell_type": "code",
   "execution_count": 10,
   "metadata": {
    "colab": {
     "base_uri": "https://localhost:8080/"
    },
    "id": "BcTNOVUiAIn7",
    "outputId": "eada07d0-cb16-4b0c-bdca-a1b360ad24b7"
   },
   "outputs": [
    {
     "name": "stdout",
     "output_type": "stream",
     "text": [
      "Name :  Zara , Salary:  2000\n",
      "Name :  Manni , Salary:  5000\n",
      "Total Employee 2\n"
     ]
    }
   ],
   "source": [
    "class Employee:\n",
    "   \n",
    "   #CODE HERE"
   ]
  },
  {
   "cell_type": "code",
   "execution_count": 20,
   "metadata": {
    "id": "BmFF6kFScPGl"
   },
   "outputs": [],
   "source": [
    "class employee:\n",
    "    count=0\n",
    "    def __init__(self,name,salary):\n",
    "        self.n=name\n",
    "        self.s=salary\n",
    "        employee.count+=1\n",
    "        return\n",
    "    def show(self):\n",
    "        print(f\"Name :  {self.n} , Salary:  {self.s}\")"
   ]
  },
  {
   "cell_type": "code",
   "execution_count": 21,
   "metadata": {},
   "outputs": [],
   "source": [
    "e=employee('vijay',25563)\n",
    "e1=employee('irfan',59764)\n"
   ]
  },
  {
   "cell_type": "code",
   "execution_count": 22,
   "metadata": {},
   "outputs": [
    {
     "name": "stdout",
     "output_type": "stream",
     "text": [
      "Name :  vijay , Salary:  25563\n",
      "Name :  irfan , Salary:  59764\n"
     ]
    }
   ],
   "source": [
    "e.show()\n",
    "e1.show()"
   ]
  }
 ],
 "metadata": {
  "colab": {
   "collapsed_sections": [],
   "name": "Class_Object_Asignment.ipynb",
   "provenance": []
  },
  "kernelspec": {
   "display_name": "Python 3 (ipykernel)",
   "language": "python",
   "name": "python3"
  },
  "language_info": {
   "codemirror_mode": {
    "name": "ipython",
    "version": 3
   },
   "file_extension": ".py",
   "mimetype": "text/x-python",
   "name": "python",
   "nbconvert_exporter": "python",
   "pygments_lexer": "ipython3",
   "version": "3.9.12"
  }
 },
 "nbformat": 4,
 "nbformat_minor": 1
}
