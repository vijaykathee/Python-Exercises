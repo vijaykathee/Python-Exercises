{
 "cells": [
  {
   "cell_type": "markdown",
   "metadata": {},
   "source": [
    "## Basics of Python"
   ]
  },
  {
   "cell_type": "markdown",
   "metadata": {},
   "source": [
    "> `Question:` Print your name"
   ]
  },
  {
   "cell_type": "code",
   "execution_count": 2,
   "metadata": {},
   "outputs": [
    {
     "name": "stdout",
     "output_type": "stream",
     "text": [
      "My name is Vijay\n"
     ]
    }
   ],
   "source": [
    "print(\"My name is Vijay\")"
   ]
  },
  {
   "cell_type": "markdown",
   "metadata": {},
   "source": [
    "> `Question:` What is a variable? Write a Few words about Variables. Create a Variable with an Example. "
   ]
  },
  {
   "cell_type": "markdown",
   "metadata": {},
   "source": [
    "\n",
    "Veriable are containers for storing the data value by using assignment operator .\n",
    "1.A veriable name must begain with a letter of the alphabet or underscore(' _ ')\n",
    "2.Veriable name are case sensitive\n",
    "3.We can not begain the veriable name with the numarical value\n"
   ]
  },
  {
   "cell_type": "code",
   "execution_count": 19,
   "metadata": {},
   "outputs": [
    {
     "name": "stdout",
     "output_type": "stream",
     "text": [
      "10\n"
     ]
    }
   ],
   "source": [
    "v=10\n",
    "print(v)\n"
   ]
  },
  {
   "cell_type": "markdown",
   "metadata": {},
   "source": [
    ">`Question:` Assume that we execute the following assignment statements:\n",
    "width = 17\n",
    "height = 12.0\n",
    "delimiter = '.'\n",
    "For each of the following expressions, write the value of the expression and the type (of the value of\n",
    "the expression).\n",
    "1. width/2\n",
    "2. width/2.0\n",
    "3. height/3\n",
    "4. 1 + 2 * 5\n",
    "5. delimiter * 5"
   ]
  },
  {
   "cell_type": "code",
   "execution_count": 6,
   "metadata": {},
   "outputs": [
    {
     "name": "stdout",
     "output_type": "stream",
     "text": [
      "1. width/2 = 8.5\n",
      "2. width/2.0 = 8.5\n",
      "3. height/3 = 4.0\n",
      "4. 11\n",
      "5. .....\n"
     ]
    }
   ],
   "source": [
    "width = 17 \n",
    "height = 12\n",
    "delimiter='.'\n",
    "print(f'1. width/2 = {width/2}')\n",
    "print(f'2. width/2.0 = {width/2.0}')\n",
    "print(f'3. height/3 = {height/3}')\n",
    "print('4.',1+2*5)\n",
    "print('5.',delimiter*5)\n"
   ]
  },
  {
   "cell_type": "markdown",
   "metadata": {},
   "source": [
    "> `Question:` Add two number by taking variable names as first and seccond"
   ]
  },
  {
   "cell_type": "code",
   "execution_count": 7,
   "metadata": {},
   "outputs": [
    {
     "name": "stdout",
     "output_type": "stream",
     "text": [
      "first number is : 100\n",
      "second number is : 200\n",
      "Addition of two number is : 300\n"
     ]
    }
   ],
   "source": [
    "f=100\n",
    "s=200\n",
    "print(f'first number is : {f}')\n",
    "print(f'second number is : {s}')\n",
    "print(f'Addition of two number is : {f+s}')"
   ]
  },
  {
   "cell_type": "markdown",
   "metadata": {},
   "source": [
    "> `Question:` Add your first name and second name"
   ]
  },
  {
   "cell_type": "code",
   "execution_count": 11,
   "metadata": {},
   "outputs": [
    {
     "name": "stdout",
     "output_type": "stream",
     "text": [
      "My first name  is : Sachin\n",
      "My second name is : Tendulkar\n",
      "My full name is : SachinTendulkar\n"
     ]
    }
   ],
   "source": [
    "f='Sachin'\n",
    "s='Tendulkar'\n",
    "print(f'My first name  is : {f}')\n",
    "print(f'My second name is : {s}')\n",
    "print(f'My full name is : {f+s}')"
   ]
  },
  {
   "cell_type": "code",
   "execution_count": null,
   "metadata": {},
   "outputs": [],
   "source": []
  },
  {
   "cell_type": "markdown",
   "metadata": {},
   "source": [
    "> `Question:` print the datatypes of the following\n",
    "- 10,'10',True,10.5"
   ]
  },
  {
   "cell_type": "code",
   "execution_count": 16,
   "metadata": {},
   "outputs": [
    {
     "name": "stdout",
     "output_type": "stream",
     "text": [
      "10 - <class 'int'>\n",
      "'10' - <class 'str'>\n",
      "True - <class 'bool'>\n",
      "10.5 - <class 'float'>\n"
     ]
    }
   ],
   "source": [
    "print('10 -',type(10))\n",
    "print(\"'10' -\",type('10'))\n",
    "print('True -',type(True))\n",
    "print('10.5 -',type(10.5))"
   ]
  },
  {
   "cell_type": "markdown",
   "metadata": {},
   "source": [
    " `Question:` \n",
    "> - num_int = 123\n",
    "> - num_str = \"456\"\n",
    "> - Add num_int and num_str\n",
    "- `hint: first need to convert num_str into integer`"
   ]
  },
  {
   "cell_type": "code",
   "execution_count": 17,
   "metadata": {},
   "outputs": [
    {
     "name": "stdout",
     "output_type": "stream",
     "text": [
      "Addition of 123 and 456 is : 579\n"
     ]
    }
   ],
   "source": [
    "num_int = 123\n",
    "num_str = \"456\"\n",
    "print(f'Addition of 123 and 456 is : {num_int+int(num_str)}')"
   ]
  },
  {
   "cell_type": "markdown",
   "metadata": {},
   "source": [
    "> `Question:` The volume of a sphere with radius r is  4/3πr3  . What is the volume of a sphere with radius 5?"
   ]
  },
  {
   "cell_type": "code",
   "execution_count": 20,
   "metadata": {},
   "outputs": [
    {
     "name": "stdout",
     "output_type": "stream",
     "text": [
      "The volume of a sphere with radius r is : 523.8095238095237\n"
     ]
    }
   ],
   "source": [
    "# CODE HERE\n",
    "r=5\n",
    "print(f'The volume of a sphere with radius r is : {4/3*(22/7*)(r**3)}')\n"
   ]
  },
  {
   "cell_type": "raw",
   "metadata": {},
   "source": [
    "# > `Question:` Suppose the cover price of a book is Rs.24.95, but bookstores get a 40% discount. Shipping costs Rs.3 for the first copy and 75 paise for each additional copy. What is the total wholesale cost for 60 copies?"
   ]
  },
  {
   "cell_type": "code",
   "execution_count": 23,
   "metadata": {},
   "outputs": [
    {
     "name": "stdout",
     "output_type": "stream",
     "text": [
      "Price : 24.95\n",
      "Discount : 0.4\n",
      "Total_copies : 60\n",
      "First_copy : 3\n",
      "Additional_copy : 0.75\n",
      "Actual_price : 14.969999999999999\n",
      "The total wholesale cost for 60 copies : 928.1399999999999\n"
     ]
    }
   ],
   "source": [
    "price =24.95\n",
    "discount=0.4\n",
    "first_copy =3\n",
    "additional_copy =0.75\n",
    "total_copies=60\n",
    "actual_price=price-price*discount\n",
    "print(f'Price : {price}')\n",
    "print(f'Discount : {discount}')\n",
    "print(f'Total_copies : {total_copies}')\n",
    "print(f'First_copy : {first_copy}')\n",
    "print(f'Additional_copy : {additional_copy}')\n",
    "\n",
    "print('Actual_price :' ,actual_price)\n",
    "print(f'The total wholesale cost for 60 copies : {actual_price*first_copy+actual_price*(total_copies-1)}')\n",
    "\n"
   ]
  }
 ],
 "metadata": {
  "kernelspec": {
   "display_name": "Python 3 (ipykernel)",
   "language": "python",
   "name": "python3"
  },
  "language_info": {
   "codemirror_mode": {
    "name": "ipython",
    "version": 3
   },
   "file_extension": ".py",
   "mimetype": "text/x-python",
   "name": "python",
   "nbconvert_exporter": "python",
   "pygments_lexer": "ipython3",
   "version": "3.9.12"
  }
 },
 "nbformat": 4,
 "nbformat_minor": 2
}
